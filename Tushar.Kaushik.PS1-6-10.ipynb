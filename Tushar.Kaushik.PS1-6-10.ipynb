{
 "cells": [
  {
   "cell_type": "markdown",
   "id": "de90bc8e",
   "metadata": {},
   "source": [
    "BDAT 1004 – Data Programming Problem Set 1"
   ]
  },
  {
   "cell_type": "markdown",
   "id": "71d8a8d1",
   "metadata": {},
   "source": [
    "Question 6:\n",
    "Write a function pig() that takes a word (i.e., a string) as input and returns its pigLatin form. Your function should still work if the input word contains upper case characters. Your output should always be lower case however."
   ]
  },
  {
   "cell_type": "code",
   "execution_count": 5,
   "id": "04421624",
   "metadata": {},
   "outputs": [
    {
     "name": "stdout",
     "output_type": "stream",
     "text": [
      "appyhay\n"
     ]
    }
   ],
   "source": [
    "def isVowel(c):\n",
    "    return (c == 'A' or c == 'E' or c == 'I' or\n",
    "            c == 'O' or c == 'U' or c == 'a' or\n",
    "            c == 'e' or c == 'i' or c == 'o' or\n",
    "            c == 'u');\n",
    " \n",
    " \n",
    "def pig(s):\n",
    " \n",
    "    length = len(s);\n",
    "    index = -1;\n",
    "    for i in range(length):\n",
    "        if (isVowel(s[i])):\n",
    "            index = i;\n",
    "            break;\n",
    " \n",
    "    if (index == 0):\n",
    "        return s[index:] + s[0:index] + \"way\";\n",
    " \n",
    "    return s[index:] + s[0:index] + \"ay\";\n",
    " \n",
    "str = pig(\"enter\");\n",
    "if (str == \"-1\"):\n",
    "    print(\"No vowels found. Pig Latin not possible\");\n",
    "else:\n",
    "    print(str);"
   ]
  },
  {
   "cell_type": "markdown",
   "id": "8112cada",
   "metadata": {},
   "source": [
    "Question 7:\n",
    "File bloodtype1.txt records blood-types of patients (A, B, AB, O or OO) at a clinic.\n",
    "Write a function bldcount() that reads the file with name name and reports (i.e., prints) how many patients there are in each bloodtype. bldcount('bloodtype.txt') There are 10 patients of blood type A. There is one patient of blood type B. There are 10 patients of blood type AB. There are 12 patients of blood type O. There are no patients of blood type OO.#"
   ]
  },
  {
   "cell_type": "code",
   "execution_count": 7,
   "id": "e4617bdf",
   "metadata": {},
   "outputs": [
    {
     "name": "stdout",
     "output_type": "stream",
     "text": [
      "There are 15 patients of blood type A.\n",
      "There is one patient of blood type B.\n",
      "There are 13 patients of blood type AB.\n",
      "There are 15 patients of blood type O.\n",
      "There are no patients of blood type OO.\n"
     ]
    }
   ],
   "source": [
    "def bldcount(filename):\n",
    "    infile=open(r'bloodtype1.txt')\n",
    "    content = infile.read() \n",
    "    infile.close() \n",
    "    \n",
    "    content = content.split()\n",
    "    \n",
    "    bloodtype = ['A','B','AB','O','OO']\n",
    "   \n",
    "    for  i in bloodtype: \n",
    "        if content.count(i)==0: \n",
    "            print('There are no patients of blood type',i+'.') \n",
    "        elif content.count(i)==1:\n",
    "                print('There is one patient of blood type',i+'.')\n",
    "        else: \n",
    "            print('There are',content.count(i),'patients of blood type', i+'.') \n",
    "    \n",
    "\n",
    "bldcount('bloodtype1.txt');"
   ]
  },
  {
   "cell_type": "markdown",
   "id": "91575e95",
   "metadata": {},
   "source": [
    "Question 8: Write a function curconv() that takes as input:\n",
    "a currency represented using a string (e.g., 'JPY' for the Japanese Yen or 'EUR' for the Euro)\n",
    "an amount and then converts and returns the amount in US dollars"
   ]
  },
  {
   "cell_type": "code",
   "execution_count": 8,
   "id": "7d38328a",
   "metadata": {},
   "outputs": [
    {
     "name": "stdout",
     "output_type": "stream",
     "text": [
      "61.48272\n",
      "0.6207005\n"
     ]
    }
   ],
   "source": [
    "def curconv(curr,amt):\n",
    "    infile=open(r'currencies.txt')\n",
    "    for content in infile:\n",
    "        content = content.split()\n",
    "        if curr == content[0]:\n",
    "            amt = amt*float(content[1])\n",
    "            return amt\n",
    "print(curconv('EUR',50))   \n",
    "print(curconv('JPY', 50))"
   ]
  },
  {
   "cell_type": "markdown",
   "id": "f8309446",
   "metadata": {},
   "source": [
    "Question 9: Each of the following will cause an exception (an error). Identify what type of exception each will cause.?"
   ]
  },
  {
   "cell_type": "markdown",
   "id": "d6bd3cc7",
   "metadata": {},
   "source": [
    "Answers:\n",
    "1. Trying to add incompatible variables, as in adding 6 + ‘a’ it will give Type error\n",
    "\n",
    "2. Referring to the 12th item of a list that has only 10 items it will give Index error\n",
    "\n",
    "3. Using a value that is out of range for a function’s input, such as calling math.sqrt(-1.0) it will give Value error\n",
    "\n",
    "4. Using an undeclared variable, such as print(x) when x has not been defined it will give Name Error\n",
    "\n",
    "5. Trying to open a file that does not exist, such as mistyping the file name or looking in the wrong directory. it will give FileNotFoundError"
   ]
  },
  {
   "cell_type": "markdown",
   "id": "90dd9492",
   "metadata": {},
   "source": [
    "Question 10:\n",
    "Assume that string letters is already defined as abcdefghijklmnopqrstuvwxyz'. Write a function called frequencies() that takes a string as its only parameter, and returns a list of integers, showing the number of times each character appears in the text. Your function may ignore any characters that are not in letters.\n",
    "\n",
    "frequencies('The quick red fox got bored and went home.') [1, 1, 1, 3, 5, 1, 1, 2, 1, 0, 1, 0, 1, 2, 4, 0, 1, 2, 0, 2, 1, 0, 1, 1, 0, 0] \n",
    "frequencies('apple')"
   ]
  },
  {
   "cell_type": "code",
   "execution_count": 10,
   "id": "957a0d93",
   "metadata": {},
   "outputs": [
    {
     "name": "stdout",
     "output_type": "stream",
     "text": [
      "1\n",
      "1\n",
      "1\n",
      "3\n",
      "5\n",
      "1\n",
      "1\n",
      "2\n",
      "1\n",
      "0\n",
      "1\n",
      "0\n",
      "1\n",
      "2\n",
      "4\n",
      "0\n",
      "1\n",
      "2\n",
      "0\n",
      "2\n",
      "1\n",
      "0\n",
      "1\n",
      "1\n",
      "0\n",
      "0\n",
      "The frquencies for apple\n",
      "0\n",
      "0\n",
      "0\n",
      "0\n",
      "1\n",
      "0\n",
      "0\n",
      "0\n",
      "0\n",
      "0\n",
      "0\n",
      "1\n",
      "0\n",
      "0\n",
      "0\n",
      "2\n",
      "0\n",
      "0\n",
      "0\n",
      "0\n",
      "0\n",
      "0\n",
      "0\n",
      "0\n",
      "0\n",
      "0\n"
     ]
    }
   ],
   "source": [
    "def frequencies(string):\n",
    "\n",
    "    letters=['a','b','c','d','e','f','g','h','i','j','k','l','m','n','o','p','q','r','s','t','u','v','w','x','y','z']\n",
    "\n",
    "    for i in range(0,26):\n",
    "        print(string.count(letters[i]))\n",
    "        \n",
    "frequencies('The quick red fox got bored and went home');\n",
    "print(\"The frquencies for apple\");\n",
    "frequencies('Apple')"
   ]
  }
 ],
 "metadata": {
  "kernelspec": {
   "display_name": "Python 3 (ipykernel)",
   "language": "python",
   "name": "python3"
  },
  "language_info": {
   "codemirror_mode": {
    "name": "ipython",
    "version": 3
   },
   "file_extension": ".py",
   "mimetype": "text/x-python",
   "name": "python",
   "nbconvert_exporter": "python",
   "pygments_lexer": "ipython3",
   "version": "3.9.12"
  }
 },
 "nbformat": 4,
 "nbformat_minor": 5
}
