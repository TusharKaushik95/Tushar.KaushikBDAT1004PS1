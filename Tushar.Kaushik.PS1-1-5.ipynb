{
 "cells": [
  {
   "cell_type": "markdown",
   "id": "893f44c6",
   "metadata": {},
   "source": [
    "BDAT 1004 – Data Programming Problem Set 1"
   ]
  },
  {
   "cell_type": "markdown",
   "id": "bd14a965",
   "metadata": {},
   "source": [
    "Question 1: What data type is each of the following?"
   ]
  },
  {
   "cell_type": "markdown",
   "id": "ec1758ed",
   "metadata": {},
   "source": [
    "5 -> Int \n",
    "5.0 -> Double \n",
    "5 > 1 -> Boolean \n",
    "'5' -> Character \n",
    "5 2 -> Int \n",
    "'5' 2 -> Int \n",
    "'5' + '2'-> String \n",
    "5 / 2 -> Int \n",
    "5 % 2 -> Float \n",
    "{5, 2, 1} -> Array \n",
    "5 == 3 -> Boolean \n",
    "Pi (the number) -> Double"
   ]
  },
  {
   "cell_type": "markdown",
   "id": "1c8db71c",
   "metadata": {},
   "source": [
    "Question2: a). How many letters are there in 'Supercalifragilisticexpialidocious'?"
   ]
  },
  {
   "cell_type": "code",
   "execution_count": 2,
   "id": "de4730ce",
   "metadata": {},
   "outputs": [
    {
     "name": "stdout",
     "output_type": "stream",
     "text": [
      "Character Count:34"
     ]
    }
   ],
   "source": [
    "string str;\n",
    "int Count = 0;\n",
    "str = \"Supercalifragilisticexpialidocious\";\n",
    "Console.Write(\"Character Count:\");\n",
    "foreach (char c in str)\n",
    "{\n",
    "    Count++;\n",
    "}\n",
    "Console.Write(Count);"
   ]
  },
  {
   "cell_type": "markdown",
   "id": "cb5d13f6",
   "metadata": {},
   "source": [
    "Question 2: b). Does 'Supercalifragilisticexpialidocious' contain 'ice' as a substring?"
   ]
  },
  {
   "cell_type": "code",
   "execution_count": 3,
   "id": "7cd7afb1",
   "metadata": {},
   "outputs": [
    {
     "name": "stdout",
     "output_type": "stream",
     "text": [
      "True"
     ]
    }
   ],
   "source": [
    "string str = \"Supercalifragilisticexpialidocious\";\n",
    "string substr = \"ice\";\n",
    "Console.Write(str.Contains(substr));"
   ]
  },
  {
   "cell_type": "markdown",
   "id": "dd9f6ac9",
   "metadata": {},
   "source": [
    "Question2: c). Which of the following words is the longest: Supercalifragilisticexpialidocious,Honorificabilitudinitatibus, or Bababadalgharaghtakamminarronnkonn?"
   ]
  },
  {
   "cell_type": "code",
   "execution_count": 5,
   "id": "8178a941",
   "metadata": {},
   "outputs": [
    {
     "name": "stdout",
     "output_type": "stream",
     "text": [
      "Your Character Count for str1 is :34\n",
      "Your Character Count for str2 is :27\n",
      "Your Character Count for str3 is :34\n",
      "Largest words are  Supercalifragilisticexpialidocious and Honorificabilitudinitatibus"
     ]
    }
   ],
   "source": [
    "string str1 =  \"Supercalifragilisticexpialidocious\";\n",
    "string str2 = \"Honorificabilitudinitatibus\";\n",
    "string str3 = \"Bababadalgharaghtakamminarronnkonn\";\n",
    "int Count1 = 0;\n",
    "int Count2 = 0;\n",
    "int Count3 = 0;\n",
    "Console.Write(\"Your Character Count for str1 is :\");\n",
    "foreach (var c in str1)\n",
    "{\n",
    "    Count1++;\n",
    "}\n",
    "Console.Write(Count1);\n",
    "Console.Write(\"\\nYour Character Count for str2 is :\");\n",
    "foreach (var c in str2)\n",
    "{\n",
    "    Count2++;\n",
    "}\n",
    "Console.Write(Count2);\n",
    "Console.Write(\"\\nYour Character Count for str3 is :\");\n",
    "foreach (var c in str3)\n",
    "{\n",
    "    Count3++;\n",
    "}\n",
    "Console.Write(Count3);\n",
    "if ((Count1 > Count2) && (Count1 > Count3))\n",
    "{\n",
    "    Console.Write(\"\\nLargest string is Supercalifragilisticexpialidocious \");\n",
    "}\n",
    "else if ((Count2 > Count1) && (Count2 > Count3))\n",
    "{\n",
    "    Console.Write(\"\\nLargest string is Honorificabilitudinitatibus \");\n",
    "}\n",
    "else if ((Count3 > Count1) && (Count3 > Count2))\n",
    "{ \n",
    "    Console.Write(\"\\nLargest string is Bababadalgharaghtakamminarronnkonn \"); \n",
    "}\n",
    "else if ((Count1 == Count2))\n",
    "{ \n",
    "    Console.Write(\"\\nLargest words are Supercalifragilisticexpialidocious and Honorificabilitudinitatibus\"); \n",
    "}\n",
    "else if ((Count2 == Count3))\n",
    "{ \n",
    "    Console.Write(\"\\nLargest words are  Bababadalgharaghtakamminarronnkonn and Honorificabilitudinitatibus\"); \n",
    "}\n",
    "else if ((Count3 == Count1))\n",
    "{ \n",
    "    Console.Write(\"\\nLargest words are  Supercalifragilisticexpialidocious and Honorificabilitudinitatibus\");\n",
    "}"
   ]
  },
  {
   "cell_type": "markdown",
   "id": "8f652892",
   "metadata": {},
   "source": [
    "Question 2: d). Which composer comes first in the dictionary: 'Berlioz', 'Borodin', 'Brian', 'Bartok', 'Bellini', 'Buxtehude', 'Bernstein'. Which one comes last?"
   ]
  },
  {
   "cell_type": "code",
   "execution_count": 7,
   "id": "b9412f8e",
   "metadata": {},
   "outputs": [
    {
     "name": "stdout",
     "output_type": "stream",
     "text": [
      "Bartok\n",
      "Bellini\n",
      "Berlioz\n",
      "Bernstein\n",
      "Borodin\n",
      "Brian\n",
      "Buxtehude\n",
      "Composer Bartok comes first in dictionary and Buxtehude comes last in dictionary\n"
     ]
    }
   ],
   "source": [
    "string[] Composer = new string[]\n",
    "{ \"Berlioz\", \"Borodin\", \"Brian\",\"Bartok\", \"Bellini\", \"Buxtehude\", \"Bernstein\" };\n",
    "Array.Sort(Composer);\n",
    "foreach (string i in Composer)\n",
    "{\n",
    "    Console.WriteLine(i);\n",
    "}\n",
    "Console.WriteLine(\"Composer \" +Composer[0]+ \" comes first in dictionary and \" +Composer[6]+ \" comes last in dictionary\");"
   ]
  },
  {
   "cell_type": "markdown",
   "id": "c87caff5",
   "metadata": {},
   "source": [
    "Question 3: Implement function triangleArea(a,b,c) that takes as input the lengths of the 3 sides of a triangle and returns the area of the triangle. By Heron's formula, the area of a triangle with side lengths a, b, and c is s(s - a)(s -b)(s -c) , where s = (a+b+c)/2."
   ]
  },
  {
   "cell_type": "code",
   "execution_count": 8,
   "id": "95ec06f8",
   "metadata": {},
   "outputs": [
    {
     "name": "stdout",
     "output_type": "stream",
     "text": [
      "Three given sides are 2 2 2\n",
      "Area = 1.7320508075688772\n"
     ]
    }
   ],
   "source": [
    "static void triangleArea(double a, double b, double c)\n",
    "{\n",
    "    if ((a > 0.0) && (b > 0.0) && (c > 0.0) && (a + b > c) && (a + c > b) && (b + c > a))\n",
    "    {\n",
    "        Console.WriteLine(\"Three given sides are \"  +a+\" \"  +b+ \" \" +c);\n",
    "        double s = (a + b + c) / 2;\n",
    "        double area = Math.Sqrt(s * (s - a) * (s - b) * (s - c));\n",
    "        Console.WriteLine(\"Area = \"  +area);\n",
    "    }\n",
    "    else\n",
    "    {\n",
    "        Console.WriteLine(\"Heron's formula cannot be calculated\");\n",
    "    }\n",
    "}\n",
    "triangleArea(2, 2, 2);"
   ]
  },
  {
   "cell_type": "markdown",
   "id": "faa482f4",
   "metadata": {},
   "source": [
    "Question 4: Write a program in C# Sharp to separate odd and even integers in separate arrays. Go to the editor Test Data : Input the number of elements to be stored in the array :5 Input 5 elements in the array : element - 0 : 25 element - 1 : 47 element - 2 : 42 element - 3 : 56 element - 4 : 32 Expected Output: The Even elements are: 42 56 32 The Odd elements are : 25 47"
   ]
  },
  {
   "cell_type": "code",
   "execution_count": 11,
   "id": "5d4c9396",
   "metadata": {},
   "outputs": [
    {
     "name": "stdout",
     "output_type": "stream",
     "text": [
      "Input the number of elements to be stored in the array:\n",
      "Even elements are:\n",
      "42\n",
      "56\n",
      "32\n",
      "Odd elements are:\n",
      "25\n",
      "47\n"
     ]
    }
   ],
   "source": [
    "int c;\n",
    "Console.WriteLine(\"Input the number of elements to be stored in the array:\");         \n",
    "c = 5;\n",
    "int[] whole = new int[c];\n",
    "whole[0] = 25;\n",
    "whole[1] = 47;\n",
    "whole[2] = 42;\n",
    "whole[3] = 56;\n",
    "whole[4] = 32;\n",
    "int[] even = new int[c];\n",
    "int[] odd = new int[c];\n",
    "int i, j = 0, k = 0;\n",
    "for (i = 0; i < c; i++)\n",
    "    {\n",
    "        if (whole[i] % 2 == 0)\n",
    "        {\n",
    "            even[j] = whole[i];\n",
    "            j++;\n",
    "        }\n",
    "        else\n",
    "        {\n",
    "            odd[k] = whole[i];\n",
    "            k++;\n",
    "        }\n",
    "    }\n",
    "Console.WriteLine(\"Even elements are:\");\n",
    "for (i = 0; i < j; i++)\n",
    "    {\n",
    "        Console.WriteLine(even[i]);\n",
    "    }\n",
    "Console.WriteLine(\"Odd elements are:\");\n",
    "for (i = 0; i < k; i++)\n",
    "    {\n",
    "        Console.WriteLine(odd[i]);\n",
    "    }"
   ]
  },
  {
   "cell_type": "markdown",
   "id": "16968d02",
   "metadata": {},
   "source": [
    "Question 5: a). Write a function inside(x,y,x1,y1,x2,y2) that returns True or False depending on whether the point (x,y) lies in the rectangle with lower left corner (x1,y1) and upper right corner (x2,y2)"
   ]
  },
  {
   "cell_type": "code",
   "execution_count": 14,
   "id": "030ecb03",
   "metadata": {},
   "outputs": [
    {
     "name": "stdout",
     "output_type": "stream",
     "text": [
      "True"
     ]
    }
   ],
   "source": [
    "static bool inside(int x1, int y1, int x2,\n",
    "                      int y2, int x, int y)\n",
    "{\n",
    "if (x > x1 && x < x2 &&\n",
    "    y > y1 && y < y2)\n",
    "    return true;\n",
    " \n",
    "return false;\n",
    "}\n",
    "      \n",
    "int x1 = 0, y1 = 0,\n",
    "    x2 = 10, y2 = 8;\n",
    " \n",
    "int x = 1, y = 5;\n",
    " \n",
    "if (inside(x1, y1, x2, y2, x, y))\n",
    "    Console.Write(\"True\");\n",
    "else\n",
    "    Console.Write(\"False\");\n"
   ]
  },
  {
   "cell_type": "markdown",
   "id": "f7a4d350",
   "metadata": {},
   "source": [
    "Question 5: b). Use the function inside() from part a to write an expression that test whether the point (1,1) lies in both of the following rectangles: one with lower left corner (0.3,0.5) and upper right corner (1.1,0.7) and the other with lower left corner (0.5,0.2) and upper right corner (1.1,2)"
   ]
  },
  {
   "cell_type": "code",
   "execution_count": 15,
   "id": "4e44ba20",
   "metadata": {},
   "outputs": [
    {
     "name": "stdout",
     "output_type": "stream",
     "text": [
      "False"
     ]
    }
   ],
   "source": [
    "static bool inside(double x, double y, double x1,\n",
    "                         double y1, double x2, double y2)\n",
    "{\n",
    "    if (x > x1 && x < x2 &&\n",
    "        y > y1 && y < y2)\n",
    "        return true;\n",
    "    else\n",
    "        return false;\n",
    "}\n",
    "    \n",
    "if (inside(1, 1, 0.3, 0.5, 1.1, 0.7) && inside(1, 1, 0.5, 0.2, 1.1, 2))\n",
    "    Console.Write(\"True\");\n",
    "else\n",
    "    Console.Write(\"False\");"
   ]
  }
 ],
 "metadata": {
  "kernelspec": {
   "display_name": ".NET (C#)",
   "language": "C#",
   "name": ".net-csharp"
  },
  "language_info": {
   "file_extension": ".cs",
   "mimetype": "text/x-csharp",
   "name": "C#",
   "pygments_lexer": "csharp",
   "version": "10.0"
  }
 },
 "nbformat": 4,
 "nbformat_minor": 5
}
